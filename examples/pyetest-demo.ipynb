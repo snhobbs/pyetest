{
 "cells": [
  {
   "cell_type": "markdown",
   "id": "43a5cb8e-87db-4c3c-babd-1d9069120b26",
   "metadata": {},
   "source": [
    "# Calculator Load and Check\n",
    "+ Load a calculator template\n",
    "+ Load in dummy values\n",
    "+ Check the outputs are as expected\n",
    "\n",
    "## Objects\n",
    "### Calculation template\n",
    "+ Spreadsheet template with all the relationships between fields expressed. Libreoffice is used to execute this, excel can also be used.\n",
    "\n",
    "### Measurement Module\n",
    "+ Someway to take the names of fields and translate these into measurement commands. In this case the names match a modbus lookup table.\n",
    "\n",
    "### Calculation Output\n",
    "+ Filled in calculation template with all fields calculated\n",
    "\n",
    "### Test matrix\n",
    "+ Defines the names of the fields to check\n",
    "+ Has the operation which is in a lookup table. We're only using simple operations (min/max or equal) more complex relationships should be expressed in the calculation template"
   ]
  },
  {
   "cell_type": "code",
   "execution_count": 1,
   "id": "f61848b6-a8b7-4659-a316-0a80aac214c5",
   "metadata": {},
   "outputs": [
    {
     "data": {
      "text/plain": [
       "<module 'pyetest' from '/home/simon/software/pyetest/pyetest.py'>"
      ]
     },
     "execution_count": 1,
     "metadata": {},
     "output_type": "execute_result"
    }
   ],
   "source": [
    "import pandas\n",
    "import pyexcel, openpyxl\n",
    "import os, sys, importlib\n",
    "sys.path.append(\"../\")\n",
    "import pyetest\n",
    "importlib.reload(pyetest)"
   ]
  },
  {
   "cell_type": "code",
   "execution_count": 2,
   "id": "52c30d6d-cbd2-4193-881b-26c1a5dc6803",
   "metadata": {},
   "outputs": [
    {
     "name": "stdout",
     "output_type": "stream",
     "text": [
      "False\n",
      "         name expected value unit  min  max value passes\n",
      "15   +5 Fault              0  NaN  NaN  NaN     1  False\n",
      "18  DAQ Fault              0  NaN  NaN  NaN     1  False\n"
     ]
    }
   ],
   "source": [
    "import pandas\n",
    "import openpyxl\n",
    "import pyetest\n",
    "\n",
    "data_template_file = \"data_template.xlsx\"\n",
    "measurement_result_file = \"measurement_result.xlsx\"\n",
    "measured_data_file = \"dummy-values.xlsx\"\n",
    "test_template_file = \"test_template.xlsx\"\n",
    "test_result_file = \"test-results.xlsx\"\n",
    "\n",
    "data_template_workbook = openpyxl.open(data_template_file)\n",
    "test_template_workbook = openpyxl.open(test_template_file)\n",
    "dummy_values_df = pandas.read_excel(measured_data_file)\n",
    "\n",
    "data_workbook, test_workbook = pyetest.pyetest_run(data_template_workbook, test_template_workbook, dummy_values_df)\n",
    "test_results_df = pyetest.worksheet_to_df(test_workbook.active)\n",
    "print(len(test_results_df[test_results_df[\"passes\"] == False]) == 0)\n",
    "print(test_results_df[test_results_df[\"passes\"] == False])\n",
    "\n",
    "test_workbook.save(test_result_file)\n",
    "data_workbook.save(measurement_result_file)"
   ]
  },
  {
   "cell_type": "code",
   "execution_count": 11,
   "id": "b4c08381-c57f-4b43-8701-9065fe4e97e7",
   "metadata": {},
   "outputs": [
    {
     "name": "stdout",
     "output_type": "stream",
     "text": [
      "|    | name              | expected value      | unit   |       min |       max | value               |   passes |\n",
      "|---:|:------------------|:--------------------|:-------|----------:|----------:|:--------------------|---------:|\n",
      "|  0 | version           | 0.8.X               | nan    | nan       | nan       | 0.8.X               |        1 |\n",
      "|  1 | firmware_version  | 0.1.8               | nan    | nan       | nan       | 0.1.8               |        1 |\n",
      "|  2 | compile_time      | 09:09:00            | nan    | nan       | nan       | 09:09:00            |        1 |\n",
      "|  3 | compile_date      | September 9th, 2023 | nan    | nan       | nan       | September 9th, 2023 |        1 |\n",
      "|  4 | slave_address     | 246                 | nan    | nan       | nan       | 246                 |        1 |\n",
      "|  5 | p3_3_micro_volts  | 3300000             | uV     |   3.2e+06 |   3.4e+06 | 3260000             |        1 |\n",
      "|  6 | p3_3_reading      | 2100                | ADC    | nan       | nan       | 2024                |      nan |\n",
      "|  7 | +3.3ERROR         | 0                   | %      |   0       |   3       | 86.4111328125       |        1 |\n",
      "|  8 | p23_micro_volts   | 23000000            | uV     |   1.8e+07 |   3e+07   | 23000000            |        1 |\n",
      "|  9 | p23_reading       | 1200                | ADC    | nan       | nan       | 1200                |      nan |\n",
      "| 10 | +23ERROR          | 0                   | %      |   0       |   3       | 3.73357027896994    |        1 |\n",
      "| 11 | p5_micro_volts    | 5000000             | uV     |   4.9e+06 |   5.1e+06 | 5000000             |        1 |\n",
      "| 12 | p5_reading        | 2500                | ADC    | nan       | nan       | 2500                |      nan |\n",
      "| 13 | +5ERROR           | 0                   | %      |   0       |   3       | 0.7080078125        |        1 |\n",
      "| 14 | fault_status      | 0                   | nan    | nan       | nan       | 9                   |      nan |\n",
      "| 15 | +5 Fault          | 0                   | nan    | nan       | nan       | 1                   |        0 |\n",
      "| 16 | +24 Fault         | 0                   | nan    | nan       | nan       | 0                   |        1 |\n",
      "| 17 | Error Code 2      | 0                   | nan    | nan       | nan       | 0                   |        1 |\n",
      "| 18 | DAQ Fault         | 0                   | nan    | nan       | nan       | 1                   |        0 |\n",
      "| 19 | Error Code 4      | 0                   | nan    | nan       | nan       | 0                   |        1 |\n",
      "| 20 | MW Fault          | 0                   | nan    | nan       | nan       | 0                   |        1 |\n",
      "| 21 | Error Code 6      | 0                   | nan    | nan       | nan       | 0                   |        1 |\n",
      "| 22 | Error Code 7      | 0                   | nan    | nan       | nan       | 0                   |        1 |\n",
      "| 23 | Visible Fault     | 0                   | nan    | nan       | nan       | 0                   |        1 |\n",
      "| 24 | Temperature Fault | 0                   | nan    | nan       | nan       | 0                   |        1 |\n",
      "| 25 | Moisture Fault    | 0                   | nan    | nan       | nan       | 0                   |      nan |\n",
      "| 26 | Watchdog Fault    | 0                   | nan    | nan       | nan       | 0                   |        1 |\n",
      "| 27 | Hardware Fault    | 0                   | nan    | nan       | nan       | 0                   |        1 |\n",
      "| 28 | I2C Fault         | 0                   | nan    | nan       | nan       | 0                   |        1 |\n",
      "| 29 | Error Code 14     | 0                   | nan    | nan       | nan       | 0                   |        1 |\n",
      "| 30 | Modbus Fault      | 0                   | nan    | nan       | nan       | 0                   |        1 |\n"
     ]
    }
   ],
   "source": [
    "print(pyetest.worksheet_to_df(test_workbook.active).to_markdown())"
   ]
  },
  {
   "cell_type": "code",
   "execution_count": 12,
   "id": "3601fae7-1d2a-4546-8088-06e55a80a459",
   "metadata": {},
   "outputs": [
    {
     "name": "stdout",
     "output_type": "stream",
     "text": [
      "|    | name                | value               | unit   | type       |\n",
      "|---:|:--------------------|:--------------------|:-------|:-----------|\n",
      "|  0 | version             | 0.8.X               | nan    | measured   |\n",
      "|  1 | firmware_version    | 0.1.8               | nan    | measured   |\n",
      "|  2 | compile_time        | 09:09:00            | nan    | measured   |\n",
      "|  3 | compile_date        | September 9th, 2023 | nan    | measured   |\n",
      "|  4 | slave_address       | 246                 | nan    | measured   |\n",
      "|  5 | p3_3_micro_volts    | 3260000             | uV     | measured   |\n",
      "|  6 | p3_3_reading        | 2024                | ADC    | measured   |\n",
      "|  7 | +3.3GAIN            | 0.5                 | nan    | fixed      |\n",
      "|  8 | +3.3OFFSET          | 0                   | V      | fixed      |\n",
      "|  9 | +3.3V               | 3.261328125         | V      | calculated |\n",
      "| 10 | +3.3ERROR           | 86.4111328125       | %      | calculated |\n",
      "| 11 | +3.3COMPARISONERROR | 0.0407400306748462  | %      | calculated |\n",
      "| 12 | p23_micro_volts     | 23000000            | uV     | measured   |\n",
      "| 13 | p23_reading         | 1200                | ADC    | measured   |\n",
      "| 14 | +23GAIN             | 0.04                | nan    | fixed      |\n",
      "| 15 | +23OFFSET           | 0                   | V      | fixed      |\n",
      "| 16 | +23V                | 24.169921875        | V      | calculated |\n",
      "| 17 | +23ERROR            | 3.73357027896994    | %      | calculated |\n",
      "| 18 | +23COMPARISONERROR  | 5.0866168478261     | %      | calculated |\n",
      "| 19 | p5_micro_volts      | 5000000             | uV     | measured   |\n",
      "| 20 | p5_reading          | 2500                | ADC    | measured   |\n",
      "| 21 | +5OFFSET            | 0                   | V      | fixed      |\n",
      "| 22 | +5GAIN              | 2.5                 | nan    | fixed      |\n",
      "| 23 | +5                  | 5.035400390625      | V      | calculated |\n",
      "| 24 | +5ERROR             | 0.7080078125        | %      | calculated |\n",
      "| 25 | +5COMPARISONERROR   | 0.7080078125        | %      | calculated |\n",
      "| 26 | fault_status        | 9                   | nan    | measured   |\n",
      "| 27 | +5 Fault            | 1                   | nan    | calculated |\n",
      "| 28 | +24 Fault           | 0                   | nan    | calculated |\n",
      "| 29 | Error Code 2        | 0                   | nan    | calculated |\n",
      "| 30 | DAQ Fault           | 1                   | nan    | calculated |\n",
      "| 31 | Error Code 4        | 0                   | nan    | calculated |\n",
      "| 32 | MW Fault            | 0                   | nan    | calculated |\n",
      "| 33 | Error Code 6        | 0                   | nan    | calculated |\n",
      "| 34 | Error Code 7        | 0                   | nan    | calculated |\n",
      "| 35 | Visible Fault       | 0                   | nan    | calculated |\n",
      "| 36 | Temperature Fault   | 0                   | nan    | calculated |\n",
      "| 37 | Moisture Fault      | 0                   | nan    | calculated |\n",
      "| 38 | Watchdog Fault      | 0                   | nan    | calculated |\n",
      "| 39 | Hardware Fault      | 0                   | nan    | calculated |\n",
      "| 40 | I2C Fault           | 0                   | nan    | calculated |\n",
      "| 41 | Error Code 14       | 0                   | nan    | calculated |\n",
      "| 42 | Modbus Fault        | 0                   | nan    | calculated |\n"
     ]
    }
   ],
   "source": [
    "print(pyetest.worksheet_to_df(data_workbook.active).to_markdown())"
   ]
  },
  {
   "cell_type": "code",
   "execution_count": 13,
   "id": "dc3eedd4-1f65-4031-85f9-96e7be5439c4",
   "metadata": {},
   "outputs": [
    {
     "name": "stdout",
     "output_type": "stream",
     "text": [
      "|    | name              | expected value                             | unit   |       min |       max | value               | passes               |\n",
      "|---:|:------------------|:-------------------------------------------|:-------|----------:|----------:|:--------------------|:---------------------|\n",
      "|  0 | version           | 0.8.X                                      | nan    | nan       | nan       | 0.8.X               | =B2=F2               |\n",
      "|  1 | firmware_version  | 0.1.8                                      | nan    | nan       | nan       | 0.1.8               | =B3=F3               |\n",
      "|  2 | compile_time      | 09:09:00                                   | nan    | nan       | nan       | 09:09:00            | =B4=F4               |\n",
      "|  3 | compile_date      | September 9th, 2023                        | nan    | nan       | nan       | September 9th, 2023 | =B5=F5               |\n",
      "|  4 | slave_address     | 246                                        | nan    | nan       | nan       | 246                 | =B6=F6               |\n",
      "|  5 | p3_3_micro_volts  | 3300000                                    | uV     |   3.2e+06 |   3.4e+06 | 3260000             | =F7>=D7 & F7<=E7     |\n",
      "|  6 | p3_3_reading      | 2100                                       | ADC    | nan       | nan       | 2024                | nan                  |\n",
      "|  7 | +3.3ERROR         | 0                                          | %      |   0       |   3       | 86.4111328125       | =F9>=D9 & F9<=E9     |\n",
      "|  8 | p23_micro_volts   | 23000000                                   | uV     |   1.8e+07 |   3e+07   | 23000000            | =F10>=D10 & F10<=E10 |\n",
      "|  9 | p23_reading       | 1200                                       | ADC    | nan       | nan       | 1200                | nan                  |\n",
      "| 10 | +23ERROR          | 0                                          | %      |   0       |   3       | 3.73357027896994    | =F12>=D12 & F12<=E12 |\n",
      "| 11 | p5_micro_volts    | 5000000                                    | uV     |   4.9e+06 |   5.1e+06 | 5000000             | =F13>=D13 & F13<=E13 |\n",
      "| 12 | p5_reading        | 2500                                       | ADC    | nan       | nan       | 2500                | nan                  |\n",
      "| 13 | +5ERROR           | 0                                          | %      |   0       |   3       | 0.7080078125        | =F15>=D15 & F15<=E15 |\n",
      "| 14 | fault_status      | 0                                          | nan    | nan       | nan       | 9                   | nan                  |\n",
      "| 15 | +5 Fault          | =MOD(_xlfn.FLOOR.MATH(B$16/POWER(2,0)),2)  | nan    | nan       | nan       | 1                   | =B17=F17             |\n",
      "| 16 | +24 Fault         | =MOD(_xlfn.FLOOR.MATH(B$16/POWER(2,1)),2)  | nan    | nan       | nan       | 0                   | =B18=F18             |\n",
      "| 17 | Error Code 2      | =MOD(_xlfn.FLOOR.MATH(B$16/POWER(2,2)),2)  | nan    | nan       | nan       | 0                   | =B19=F19             |\n",
      "| 18 | DAQ Fault         | =MOD(_xlfn.FLOOR.MATH(B$16/POWER(2,3)),2)  | nan    | nan       | nan       | 1                   | =B20=F20             |\n",
      "| 19 | Error Code 4      | =MOD(_xlfn.FLOOR.MATH(B$16/POWER(2,4)),2)  | nan    | nan       | nan       | 0                   | =B21=F21             |\n",
      "| 20 | MW Fault          | =MOD(_xlfn.FLOOR.MATH(B$16/POWER(2,5)),2)  | nan    | nan       | nan       | 0                   | =B22=F22             |\n",
      "| 21 | Error Code 6      | =MOD(_xlfn.FLOOR.MATH(B$16/POWER(2,6)),2)  | nan    | nan       | nan       | 0                   | =B23=F23             |\n",
      "| 22 | Error Code 7      | =MOD(_xlfn.FLOOR.MATH(B$16/POWER(2,7)),2)  | nan    | nan       | nan       | 0                   | =B24=F24             |\n",
      "| 23 | Visible Fault     | =MOD(_xlfn.FLOOR.MATH(B$16/POWER(2,8)),2)  | nan    | nan       | nan       | 0                   | =B25=F25             |\n",
      "| 24 | Temperature Fault | =MOD(_xlfn.FLOOR.MATH(B$16/POWER(2,9)),2)  | nan    | nan       | nan       | 0                   | =B27=F27             |\n",
      "| 25 | Moisture Fault    | =MOD(_xlfn.FLOOR.MATH(B$16/POWER(2,10)),2) | nan    | nan       | nan       | 0                   | nan                  |\n",
      "| 26 | Watchdog Fault    | =MOD(_xlfn.FLOOR.MATH(B$16/POWER(2,11)),2) | nan    | nan       | nan       | 0                   | =B28=F28             |\n",
      "| 27 | Hardware Fault    | =MOD(_xlfn.FLOOR.MATH(B$16/POWER(2,12)),2) | nan    | nan       | nan       | 0                   | =B29=F29             |\n",
      "| 28 | I2C Fault         | =MOD(_xlfn.FLOOR.MATH(B$16/POWER(2,13)),2) | nan    | nan       | nan       | 0                   | =B30=F30             |\n",
      "| 29 | Error Code 14     | =MOD(_xlfn.FLOOR.MATH(B$16/POWER(2,14)),2) | nan    | nan       | nan       | 0                   | =B31=F31             |\n",
      "| 30 | Modbus Fault      | =MOD(_xlfn.FLOOR.MATH(B$16/POWER(2,15)),2) | nan    | nan       | nan       | 0                   | =B32=F32             |\n"
     ]
    }
   ],
   "source": [
    "print(pyetest.worksheet_to_df(test_template_workbook.active).to_markdown())"
   ]
  },
  {
   "cell_type": "code",
   "execution_count": null,
   "id": "74ffe794-2f12-4ee6-a52c-61cdc127e03e",
   "metadata": {},
   "outputs": [],
   "source": []
  }
 ],
 "metadata": {
  "kernelspec": {
   "display_name": "Python 3 (ipykernel)",
   "language": "python",
   "name": "python3"
  },
  "language_info": {
   "codemirror_mode": {
    "name": "ipython",
    "version": 3
   },
   "file_extension": ".py",
   "mimetype": "text/x-python",
   "name": "python",
   "nbconvert_exporter": "python",
   "pygments_lexer": "ipython3",
   "version": "3.10.12"
  }
 },
 "nbformat": 4,
 "nbformat_minor": 5
}
