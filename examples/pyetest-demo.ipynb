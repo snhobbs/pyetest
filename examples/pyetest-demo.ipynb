{
 "cells": [
  {
   "cell_type": "markdown",
   "id": "43a5cb8e-87db-4c3c-babd-1d9069120b26",
   "metadata": {},
   "source": [
    "# Calculator Load and Check\n",
    "+ Load a calculator template\n",
    "+ Load in dummy values\n",
    "+ Check the outputs are as expected\n",
    "\n",
    "## Objects\n",
    "### Calculation template\n",
    "+ Spreadsheet template with all the relationships between fields expressed. Libreoffice is used to execute this, excel can also be used.\n",
    "\n",
    "### Measurement Module\n",
    "+ Someway to take the names of fields and translate these into measurement commands. In this case the names match a modbus lookup table.\n",
    "\n",
    "### Calculation Output\n",
    "+ Filled in calculation template with all fields calculated\n",
    "\n",
    "### Test matrix\n",
    "+ Defines the names of the fields to check\n",
    "+ Has the operation which is in a lookup table. We're only using simple operations (min/max or equal) more complex relationships should be expressed in the calculation template"
   ]
  },
  {
   "cell_type": "code",
   "execution_count": 42,
   "id": "f61848b6-a8b7-4659-a316-0a80aac214c5",
   "metadata": {},
   "outputs": [
    {
     "data": {
      "text/plain": [
       "<module 'pyetest' from '/home/simon/software/pyetest/pyetest.py'>"
      ]
     },
     "execution_count": 42,
     "metadata": {},
     "output_type": "execute_result"
    }
   ],
   "source": [
    "import pandas\n",
    "import pyexcel, openpyxl\n",
    "import os, sys, importlib\n",
    "sys.path.append(\"../\")\n",
    "import pyetest\n",
    "importlib.reload(pyetest)"
   ]
  },
  {
   "cell_type": "code",
   "execution_count": 45,
   "id": "52c30d6d-cbd2-4193-881b-26c1a5dc6803",
   "metadata": {},
   "outputs": [
    {
     "name": "stdout",
     "output_type": "stream",
     "text": [
      "False\n",
      "         name expected value unit  min  max value passes\n",
      "15   +5 Fault              0  NaN  NaN  NaN     1  False\n",
      "18  DAQ Fault              0  NaN  NaN  NaN     1  False\n"
     ]
    }
   ],
   "source": [
    "import pandas\n",
    "import openpyxl\n",
    "import pyetest\n",
    "\n",
    "data_template_file = \"data_template.xlsx\"\n",
    "measurement_result_file = \"measurement_result.xlsx\"\n",
    "measured_data_file = \"dummy-values.xlsx\"\n",
    "test_template_file = \"test_template.xlsx\"\n",
    "test_result_file = \"test-results.xlsx\"\n",
    "\n",
    "data_template_workbook = openpyxl.open(data_template_file)\n",
    "test_template_workbook = openpyxl.open(test_template_file)\n",
    "dummy_values_df = pandas.read_excel(measured_data_file)\n",
    "\n",
    "data_workbook, test_workbook = pyetest.pyetest_run(data_template_workbook, test_template_workbook, dummy_values_df)\n",
    "test_results_df = pyetest.worksheet_to_df(test_workbook.active)\n",
    "print(len(test_results_df[test_results_df[\"passes\"] == False]) == 0)\n",
    "print(test_results_df[test_results_df[\"passes\"] == False])\n",
    "\n",
    "test_workbook.save(test_result_file)\n",
    "data_workbook.save(measurement_result_file)"
   ]
  },
  {
   "cell_type": "code",
   "execution_count": 33,
   "id": "3601fae7-1d2a-4546-8088-06e55a80a459",
   "metadata": {},
   "outputs": [
    {
     "data": {
      "text/plain": [
       "\u001b[0;31mSignature:\u001b[0m\n",
       "\u001b[0mdummy_values_df\u001b[0m\u001b[0;34m.\u001b[0m\u001b[0mdropna\u001b[0m\u001b[0;34m(\u001b[0m\u001b[0;34m\u001b[0m\n",
       "\u001b[0;34m\u001b[0m    \u001b[0;34m*\u001b[0m\u001b[0;34m,\u001b[0m\u001b[0;34m\u001b[0m\n",
       "\u001b[0;34m\u001b[0m    \u001b[0maxis\u001b[0m\u001b[0;34m:\u001b[0m \u001b[0;34m'Axis'\u001b[0m \u001b[0;34m=\u001b[0m \u001b[0;36m0\u001b[0m\u001b[0;34m,\u001b[0m\u001b[0;34m\u001b[0m\n",
       "\u001b[0;34m\u001b[0m    \u001b[0mhow\u001b[0m\u001b[0;34m:\u001b[0m \u001b[0;34m'AnyAll | NoDefault'\u001b[0m \u001b[0;34m=\u001b[0m \u001b[0;34m<\u001b[0m\u001b[0mno_default\u001b[0m\u001b[0;34m>\u001b[0m\u001b[0;34m,\u001b[0m\u001b[0;34m\u001b[0m\n",
       "\u001b[0;34m\u001b[0m    \u001b[0mthresh\u001b[0m\u001b[0;34m:\u001b[0m \u001b[0;34m'int | NoDefault'\u001b[0m \u001b[0;34m=\u001b[0m \u001b[0;34m<\u001b[0m\u001b[0mno_default\u001b[0m\u001b[0;34m>\u001b[0m\u001b[0;34m,\u001b[0m\u001b[0;34m\u001b[0m\n",
       "\u001b[0;34m\u001b[0m    \u001b[0msubset\u001b[0m\u001b[0;34m:\u001b[0m \u001b[0;34m'IndexLabel'\u001b[0m \u001b[0;34m=\u001b[0m \u001b[0;32mNone\u001b[0m\u001b[0;34m,\u001b[0m\u001b[0;34m\u001b[0m\n",
       "\u001b[0;34m\u001b[0m    \u001b[0minplace\u001b[0m\u001b[0;34m:\u001b[0m \u001b[0;34m'bool'\u001b[0m \u001b[0;34m=\u001b[0m \u001b[0;32mFalse\u001b[0m\u001b[0;34m,\u001b[0m\u001b[0;34m\u001b[0m\n",
       "\u001b[0;34m\u001b[0m    \u001b[0mignore_index\u001b[0m\u001b[0;34m:\u001b[0m \u001b[0;34m'bool'\u001b[0m \u001b[0;34m=\u001b[0m \u001b[0;32mFalse\u001b[0m\u001b[0;34m,\u001b[0m\u001b[0;34m\u001b[0m\n",
       "\u001b[0;34m\u001b[0m\u001b[0;34m)\u001b[0m \u001b[0;34m->\u001b[0m \u001b[0;34m'DataFrame | None'\u001b[0m\u001b[0;34m\u001b[0m\u001b[0;34m\u001b[0m\u001b[0m\n",
       "\u001b[0;31mDocstring:\u001b[0m\n",
       "Remove missing values.\n",
       "\n",
       "See the :ref:`User Guide <missing_data>` for more on which values are\n",
       "considered missing, and how to work with missing data.\n",
       "\n",
       "Parameters\n",
       "----------\n",
       "axis : {0 or 'index', 1 or 'columns'}, default 0\n",
       "    Determine if rows or columns which contain missing values are\n",
       "    removed.\n",
       "\n",
       "    * 0, or 'index' : Drop rows which contain missing values.\n",
       "    * 1, or 'columns' : Drop columns which contain missing value.\n",
       "\n",
       "    Pass tuple or list to drop on multiple axes.\n",
       "    Only a single axis is allowed.\n",
       "\n",
       "how : {'any', 'all'}, default 'any'\n",
       "    Determine if row or column is removed from DataFrame, when we have\n",
       "    at least one NA or all NA.\n",
       "\n",
       "    * 'any' : If any NA values are present, drop that row or column.\n",
       "    * 'all' : If all values are NA, drop that row or column.\n",
       "\n",
       "thresh : int, optional\n",
       "    Require that many non-NA values. Cannot be combined with how.\n",
       "subset : column label or sequence of labels, optional\n",
       "    Labels along other axis to consider, e.g. if you are dropping rows\n",
       "    these would be a list of columns to include.\n",
       "inplace : bool, default False\n",
       "    Whether to modify the DataFrame rather than creating a new one.\n",
       "ignore_index : bool, default ``False``\n",
       "    If ``True``, the resulting axis will be labeled 0, 1, …, n - 1.\n",
       "\n",
       "    .. versionadded:: 2.0.0\n",
       "\n",
       "Returns\n",
       "-------\n",
       "DataFrame or None\n",
       "    DataFrame with NA entries dropped from it or None if ``inplace=True``.\n",
       "\n",
       "See Also\n",
       "--------\n",
       "DataFrame.isna: Indicate missing values.\n",
       "DataFrame.notna : Indicate existing (non-missing) values.\n",
       "DataFrame.fillna : Replace missing values.\n",
       "Series.dropna : Drop missing values.\n",
       "Index.dropna : Drop missing indices.\n",
       "\n",
       "Examples\n",
       "--------\n",
       ">>> df = pd.DataFrame({\"name\": ['Alfred', 'Batman', 'Catwoman'],\n",
       "...                    \"toy\": [np.nan, 'Batmobile', 'Bullwhip'],\n",
       "...                    \"born\": [pd.NaT, pd.Timestamp(\"1940-04-25\"),\n",
       "...                             pd.NaT]})\n",
       ">>> df\n",
       "       name        toy       born\n",
       "0    Alfred        NaN        NaT\n",
       "1    Batman  Batmobile 1940-04-25\n",
       "2  Catwoman   Bullwhip        NaT\n",
       "\n",
       "Drop the rows where at least one element is missing.\n",
       "\n",
       ">>> df.dropna()\n",
       "     name        toy       born\n",
       "1  Batman  Batmobile 1940-04-25\n",
       "\n",
       "Drop the columns where at least one element is missing.\n",
       "\n",
       ">>> df.dropna(axis='columns')\n",
       "       name\n",
       "0    Alfred\n",
       "1    Batman\n",
       "2  Catwoman\n",
       "\n",
       "Drop the rows where all elements are missing.\n",
       "\n",
       ">>> df.dropna(how='all')\n",
       "       name        toy       born\n",
       "0    Alfred        NaN        NaT\n",
       "1    Batman  Batmobile 1940-04-25\n",
       "2  Catwoman   Bullwhip        NaT\n",
       "\n",
       "Keep only the rows with at least 2 non-NA values.\n",
       "\n",
       ">>> df.dropna(thresh=2)\n",
       "       name        toy       born\n",
       "1    Batman  Batmobile 1940-04-25\n",
       "2  Catwoman   Bullwhip        NaT\n",
       "\n",
       "Define in which columns to look for missing values.\n",
       "\n",
       ">>> df.dropna(subset=['name', 'toy'])\n",
       "       name        toy       born\n",
       "1    Batman  Batmobile 1940-04-25\n",
       "2  Catwoman   Bullwhip        NaT\n",
       "\u001b[0;31mFile:\u001b[0m      ~/.venv3-ssp/lib/python3.10/site-packages/pandas/core/frame.py\n",
       "\u001b[0;31mType:\u001b[0m      method"
      ]
     },
     "metadata": {},
     "output_type": "display_data"
    }
   ],
   "source": [
    "dummy_values_df."
   ]
  },
  {
   "cell_type": "code",
   "execution_count": null,
   "id": "74ffe794-2f12-4ee6-a52c-61cdc127e03e",
   "metadata": {},
   "outputs": [],
   "source": []
  }
 ],
 "metadata": {
  "kernelspec": {
   "display_name": "Python 3 (ipykernel)",
   "language": "python",
   "name": "python3"
  },
  "language_info": {
   "codemirror_mode": {
    "name": "ipython",
    "version": 3
   },
   "file_extension": ".py",
   "mimetype": "text/x-python",
   "name": "python",
   "nbconvert_exporter": "python",
   "pygments_lexer": "ipython3",
   "version": "3.10.12"
  }
 },
 "nbformat": 4,
 "nbformat_minor": 5
}
