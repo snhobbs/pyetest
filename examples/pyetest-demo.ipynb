{
 "cells": [
  {
   "cell_type": "markdown",
   "id": "43a5cb8e-87db-4c3c-babd-1d9069120b26",
   "metadata": {},
   "source": [
    "# Calculator Load and Check\n",
    "+ Load a calculator template\n",
    "+ Load in dummy values\n",
    "+ Check the outputs are as expected\n",
    "\n",
    "## Objects\n",
    "### Calculation template\n",
    "+ Spreadsheet template with all the relationships between fields expressed. Libreoffice is used to execute this, excel can also be used.\n",
    "\n",
    "### Measurement Module\n",
    "+ Someway to take the names of fields and translate these into measurement commands. In this case the names match a modbus lookup table.\n",
    "\n",
    "### Calculation Output\n",
    "+ Filled in calculation template with all fields calculated\n",
    "\n",
    "### Test matrix\n",
    "+ Defines the names of the fields to check\n",
    "+ Has the operation which is in a lookup table. We're only using simple operations (min/max or equal) more complex relationships should be expressed in the calculation template"
   ]
  },
  {
   "cell_type": "code",
   "execution_count": 1,
   "id": "f61848b6-a8b7-4659-a316-0a80aac214c5",
   "metadata": {},
   "outputs": [
    {
     "data": {
      "text/plain": [
       "<module 'pyetest' from '/home/simon/projects/pyetest/examples/../pyetest.py'>"
      ]
     },
     "execution_count": 1,
     "metadata": {},
     "output_type": "execute_result"
    }
   ],
   "source": [
    "import pandas\n",
    "import pyexcel, openpyxl\n",
    "import os, sys, importlib\n",
    "sys.path.append(\"../\")\n",
    "import pyetest\n",
    "importlib.reload(pyetest)"
   ]
  },
  {
   "cell_type": "code",
   "execution_count": 2,
   "id": "52c30d6d-cbd2-4193-881b-26c1a5dc6803",
   "metadata": {},
   "outputs": [
    {
     "name": "stderr",
     "output_type": "stream",
     "text": [
      "Warning: failed to launch javaldx - java may not function correctly\n"
     ]
    },
    {
     "name": "stdout",
     "output_type": "stream",
     "text": [
      "convert /tmp/tmpz8iol7mr/pyetest.xlsx -> /tmp/tmpux6k9ra4/pyetest.xlsx using filter : Calc Office Open XML\n"
     ]
    }
   ],
   "source": [
    "template_file = \"./calculator-sheet-blank-template.xlsx\"\n",
    "measured_data_file = \"./dummy-values.xlsx\"\n",
    "test_matrix_file = \"./value-limits.xlsx\"\n",
    "out_file = \"filled-data-table.xlsx\"\n",
    "\n",
    "workbook = openpyxl.open(template_file)\n",
    "dummy_values_df = pandas.read_excel(measured_data_file)\n",
    "compiled_wb = pyetest.compile_template(workbook, data=dummy_values_df)\n",
    "processed_wb = pyetest.reload_spreadsheet(compiled_wb)\n",
    "processed_wb.save(out_file)"
   ]
  },
  {
   "cell_type": "code",
   "execution_count": 13,
   "id": "1b042ba2-1fb6-47ce-9a45-a06344dc65e0",
   "metadata": {},
   "outputs": [],
   "source": [
    "# Tests\n",
    "test_results_file = \"test-results.xlsx\"\n",
    "processed_df = pandas.read_excel(out_file)\n",
    "values_matrix_df = pandas.read_excel(test_matrix_file).dropna(subset=[\"operation\"])\n",
    "test_result_df = pyetest.run_text_matrix(processed_df, values_matrix_df)\n",
    "tests_passed = all(test_result_df[\"passes\"])\n",
    "test_result_df[\"operation\"] = [f\"'{op}\" for op in test_result_df[\"operation\"]]\n",
    "test_result_df.to_excel(test_results_file)"
   ]
  },
  {
   "cell_type": "code",
   "execution_count": 12,
   "id": "4fc9f9f6-78b5-4c2c-9b1f-5baaa9594ab4",
   "metadata": {},
   "outputs": [
    {
     "name": "stdout",
     "output_type": "stream",
     "text": [
      "B1 name \t\t value\n",
      "B2 version \t\t 0.8.X\n",
      "B3 firmware_version \t\t 0.1.8\n",
      "B4 compile_time \t\t 09:09:00\n",
      "B5 compile_date \t\t September 9th, 2023\n",
      "B6 slave_address \t\t 246\n",
      "B7 p3_3_micro_volts \t\t 3260000\n",
      "B8 p3_3_reading \t\t 2024\n",
      "B9 +3.3GAIN \t\t 0.5\n",
      "B10 +3.3OFFSET \t\t 0\n",
      "B11 +3.3V \t\t 3.261328125\n",
      "B12 +3.3ERROR \t\t 86.4111328125\n",
      "B13 +3.3COMPARISONERROR \t\t 0.0407400306748462\n",
      "B14 p23_micro_volts \t\t 23000000\n",
      "B15 p23_reading \t\t 1200\n",
      "B16 +23GAIN \t\t 0.04\n",
      "B17 +23OFFSET \t\t 0\n",
      "B18 +23V \t\t 24.169921875\n",
      "B19 +23ERROR \t\t 3.73357027896994\n",
      "B20 +23COMPARISONERROR \t\t 5.0866168478261\n",
      "B21 p5_micro_volts \t\t 5000000\n",
      "B22 p5_reading \t\t 2500\n",
      "B23 +5OFFSET \t\t 0\n",
      "B24 +5GAIN \t\t 2.5\n",
      "B25 +5 \t\t 5.035400390625\n",
      "B26 +5ERROR \t\t 0.7080078125\n",
      "B27 +5COMPARISONERROR \t\t 0.7080078125\n",
      "B28 fault_status \t\t 9\n",
      "B29 +5 Fault \t\t 1\n",
      "B30 +24 Fault \t\t 0\n",
      "B31 Error Code 2 \t\t 0\n",
      "B32 DAQ Fault \t\t 1\n",
      "B33 Error Code 4 \t\t 0\n",
      "B34 MW Fault \t\t 0\n",
      "B35 Error Code 6 \t\t 0\n",
      "B36 Error Code 7 \t\t 0\n",
      "B37 Visible Fault \t\t 0\n",
      "B38 Temperature Fault \t\t 0\n",
      "B39 Moisture Fault \t\t 0\n",
      "B40 Watchdog Fault \t\t 0\n",
      "B41 Hardware Fault \t\t 0\n",
      "B42 I2C Fault \t\t 0\n",
      "B43 Error Code 14 \t\t 0\n",
      "B44 Modbus Fault \t\t 0\n",
      "B45 None \t\t None\n",
      "B46 None \t\t None\n",
      "B47 None \t\t None\n",
      "B48 None \t\t None\n",
      "B49 None \t\t None\n",
      "B50 None \t\t None\n",
      "B51 None \t\t None\n",
      "B52 None \t\t None\n",
      "B53 None \t\t None\n",
      "B54 None \t\t None\n",
      "B55 None \t\t None\n",
      "B56 None \t\t None\n",
      "B57 None \t\t None\n",
      "B58 None \t\t None\n",
      "B59 None \t\t None\n",
      "B60 None \t\t None\n",
      "B61 None \t\t None\n"
     ]
    }
   ],
   "source": [
    "for row in processed_wb.active.iter_rows(min_row=1, values_only=False):\n",
    "    print(row[1].coordinate, row[0].value, \"\\t\\t\", row[1].value)"
   ]
  },
  {
   "cell_type": "code",
   "execution_count": 10,
   "id": "aa4120e6-68c1-49b5-a4ee-03c57d373cb6",
   "metadata": {},
   "outputs": [
    {
     "name": "stdout",
     "output_type": "stream",
     "text": [
      "                   name                value unit        type\n",
      "0               version                0.8.X  NaN    measured\n",
      "1      firmware_version                0.1.8  NaN    measured\n",
      "2          compile_time             09:09:00  NaN    measured\n",
      "3          compile_date  September 9th, 2023  NaN    measured\n",
      "4         slave_address                  246  NaN    measured\n",
      "5      p3_3_micro_volts              3260000   uV    measured\n",
      "6          p3_3_reading                 2024  ADC    measured\n",
      "7              +3.3GAIN                  0.5  NaN       fixed\n",
      "8            +3.3OFFSET                    0    V       fixed\n",
      "9                 +3.3V             3.261328    V  calculated\n",
      "10            +3.3ERROR            86.411133    %  calculated\n",
      "11  +3.3COMPARISONERROR              0.04074    %  calculated\n",
      "12      p23_micro_volts             23000000   uV    measured\n",
      "13          p23_reading                 1200  ADC    measured\n",
      "14              +23GAIN                 0.04  NaN       fixed\n",
      "15            +23OFFSET                    0    V       fixed\n",
      "16                 +23V            24.169922    V  calculated\n",
      "17             +23ERROR              3.73357    %  calculated\n",
      "18   +23COMPARISONERROR             5.086617    %  calculated\n",
      "19       p5_micro_volts              5000000   uV    measured\n",
      "20           p5_reading                 2500  ADC    measured\n",
      "21             +5OFFSET                    0    V       fixed\n",
      "22               +5GAIN                  2.5  NaN       fixed\n",
      "23                   +5               5.0354    V  calculated\n",
      "24              +5ERROR             0.708008    %  calculated\n",
      "25    +5COMPARISONERROR             0.708008    %  calculated\n",
      "26         fault_status                    9  NaN    measured\n",
      "27             +5 Fault                    1  NaN  calculated\n",
      "28            +24 Fault                    0  NaN  calculated\n",
      "29         Error Code 2                    0  NaN  calculated\n",
      "30            DAQ Fault                    1  NaN  calculated\n",
      "31         Error Code 4                    0  NaN  calculated\n",
      "32             MW Fault                    0  NaN  calculated\n",
      "33         Error Code 6                    0  NaN  calculated\n",
      "34         Error Code 7                    0  NaN  calculated\n",
      "35        Visible Fault                    0  NaN  calculated\n",
      "36    Temperature Fault                    0  NaN  calculated\n",
      "37       Moisture Fault                    0  NaN  calculated\n",
      "38       Watchdog Fault                    0  NaN  calculated\n",
      "39       Hardware Fault                    0  NaN  calculated\n",
      "40            I2C Fault                    0  NaN  calculated\n",
      "41        Error Code 14                    0  NaN  calculated\n",
      "42         Modbus Fault                    0  NaN  calculated\n"
     ]
    }
   ],
   "source": [
    "print(processed_df)"
   ]
  },
  {
   "cell_type": "code",
   "execution_count": 7,
   "id": "6c628a2c-6257-4e1c-8770-7f8e044121c0",
   "metadata": {},
   "outputs": [
    {
     "name": "stdout",
     "output_type": "stream",
     "text": [
      "False\n",
      "                 name       expected value unit         min         max  \\\n",
      "0             version                0.8.X  NaN         NaN         NaN   \n",
      "1    firmware_version                0.1.8  NaN         NaN         NaN   \n",
      "2        compile_time             09:09:00  NaN         NaN         NaN   \n",
      "3        compile_date  September 9th, 2023  NaN         NaN         NaN   \n",
      "4       slave_address                  246  NaN         NaN         NaN   \n",
      "5    p3_3_micro_volts              3300000   uV   3200000.0   3400000.0   \n",
      "7           +3.3ERROR                    0    %         0.0         3.0   \n",
      "8     p23_micro_volts             23000000   uV  18000000.0  30000000.0   \n",
      "10           +23ERROR                    0    %         0.0         3.0   \n",
      "11     p5_micro_volts              5000000   uV   4900000.0   5100000.0   \n",
      "13            +5ERROR                    0    %         0.0         3.0   \n",
      "15           +5 Fault                    0  NaN         NaN         NaN   \n",
      "16          +24 Fault                    0  NaN         NaN         NaN   \n",
      "17       Error Code 2                    0  NaN         NaN         NaN   \n",
      "18          DAQ Fault                    0  NaN         NaN         NaN   \n",
      "19       Error Code 4                    0  NaN         NaN         NaN   \n",
      "20           MW Fault                    0  NaN         NaN         NaN   \n",
      "21       Error Code 6                    0  NaN         NaN         NaN   \n",
      "22       Error Code 7                    0  NaN         NaN         NaN   \n",
      "23      Visible Fault                    0  NaN         NaN         NaN   \n",
      "24  Temperature Fault                    0  NaN         NaN         NaN   \n",
      "26     Watchdog Fault                    0  NaN         NaN         NaN   \n",
      "27     Hardware Fault                    0  NaN         NaN         NaN   \n",
      "28          I2C Fault                    0  NaN         NaN         NaN   \n",
      "29      Error Code 14                    0  NaN         NaN         NaN   \n",
      "30       Modbus Fault                    0  NaN         NaN         NaN   \n",
      "\n",
      "   operation                value  passes  \n",
      "0        '==                0.8.X    True  \n",
      "1        '==                0.1.8    True  \n",
      "2        '==             09:09:00    True  \n",
      "3        '==  September 9th, 2023    True  \n",
      "4        '==                  246    True  \n",
      "5       '<=>              3260000    True  \n",
      "7       '<=>            86.411133   False  \n",
      "8       '<=>             23000000    True  \n",
      "10      '<=>              3.73357   False  \n",
      "11      '<=>              5000000    True  \n",
      "13      '<=>             0.708008    True  \n",
      "15       '==                    1   False  \n",
      "16       '==                    0    True  \n",
      "17       '==                    0    True  \n",
      "18       '==                    1   False  \n",
      "19       '==                    0    True  \n",
      "20       '==                    0    True  \n",
      "21       '==                    0    True  \n",
      "22       '==                    0    True  \n",
      "23       '==                    0    True  \n",
      "24       '==                    0    True  \n",
      "26       '==                    0    True  \n",
      "27       '==                    0    True  \n",
      "28       '==                    0    True  \n",
      "29       '==                    0    True  \n",
      "30       '==                    0    True  \n"
     ]
    }
   ],
   "source": [
    "print(tests_passed)\n",
    "print(test_result_df)"
   ]
  },
  {
   "cell_type": "code",
   "execution_count": null,
   "id": "6ecd4214-05d5-43b8-92e8-f825d5b7d658",
   "metadata": {},
   "outputs": [],
   "source": []
  }
 ],
 "metadata": {
  "kernelspec": {
   "display_name": "Python 3 (ipykernel)",
   "language": "python",
   "name": "python3"
  },
  "language_info": {
   "codemirror_mode": {
    "name": "ipython",
    "version": 3
   },
   "file_extension": ".py",
   "mimetype": "text/x-python",
   "name": "python",
   "nbconvert_exporter": "python",
   "pygments_lexer": "ipython3",
   "version": "3.10.12"
  }
 },
 "nbformat": 4,
 "nbformat_minor": 5
}
