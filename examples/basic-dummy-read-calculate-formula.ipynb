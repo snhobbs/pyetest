{
 "cells": [
  {
   "cell_type": "markdown",
   "id": "43a5cb8e-87db-4c3c-babd-1d9069120b26",
   "metadata": {},
   "source": [
    "# Basic dummy read calculate formula\n",
    "+ Create a spreadsheet object with a formula\n",
    "+ Change the input values\n",
    "+ Evaluate the formula, check the values match"
   ]
  },
  {
   "cell_type": "code",
   "execution_count": 1,
   "id": "f61848b6-a8b7-4659-a316-0a80aac214c5",
   "metadata": {},
   "outputs": [],
   "source": [
    "import pandas\n",
    "import pyexcel, openpyxl"
   ]
  },
  {
   "cell_type": "code",
   "execution_count": 2,
   "id": "52c30d6d-cbd2-4193-881b-26c1a5dc6803",
   "metadata": {},
   "outputs": [],
   "source": [
    "workbook = openpyxl.workbook.Workbook()\n",
    "sheet = workbook.active"
   ]
  },
  {
   "cell_type": "code",
   "execution_count": 3,
   "id": "e0cbdc18-d7ca-4b61-894d-e1ae14d88ce1",
   "metadata": {},
   "outputs": [],
   "source": [
    "sheet[\"A1\"] = 'Sum'\n",
    "sheet[\"A2\"] = \"=SUM(B2:B10)\"\n",
    "sheet[\"B1\"] = 'Count'"
   ]
  },
  {
   "cell_type": "code",
   "execution_count": 4,
   "id": "eaff4924-e46a-4ebc-afb4-b9f4e7df6e87",
   "metadata": {},
   "outputs": [
    {
     "name": "stdout",
     "output_type": "stream",
     "text": [
      "1\n",
      "1\n",
      "1\n",
      "1\n",
      "1\n",
      "1\n",
      "1\n",
      "1\n",
      "1\n",
      "1\n",
      "1\n"
     ]
    }
   ],
   "source": [
    "for row in sheet.iter_rows(min_row=2, max_row=12, values_only=False):\n",
    "    row[1].value = 1\n",
    "    print(row[1].value)\n",
    "#sheet[\"B2:B10\"] = 1"
   ]
  },
  {
   "cell_type": "code",
   "execution_count": 5,
   "id": "93713b3f-636e-45dd-9e9a-978a6c286dd3",
   "metadata": {},
   "outputs": [],
   "source": [
    "calc_cell = sheet[\"A1\"]"
   ]
  },
  {
   "cell_type": "code",
   "execution_count": 15,
   "id": "7a3d3249-08e1-418d-93c6-0bf6a97f28d4",
   "metadata": {},
   "outputs": [],
   "source": [
    "workbook.save(\"/tmp/out.xlsx\")"
   ]
  },
  {
   "cell_type": "code",
   "execution_count": 16,
   "id": "7557af64-e6ad-4bf3-b778-0202ea748962",
   "metadata": {},
   "outputs": [],
   "source": [
    "workbook2 = openpyxl.open(\"/tmp/out.xlsx\", data_only=True)"
   ]
  },
  {
   "cell_type": "code",
   "execution_count": 17,
   "id": "d27569fa-cb14-457b-a606-a36f48b367ac",
   "metadata": {},
   "outputs": [
    {
     "name": "stdout",
     "output_type": "stream",
     "text": [
      "None\n",
      "None\n",
      "None\n",
      "None\n",
      "None\n",
      "None\n",
      "None\n",
      "None\n",
      "None\n",
      "None\n",
      "None\n"
     ]
    }
   ],
   "source": [
    "for row in workbook2.active.iter_rows(min_row=2, max_row=12, values_only=False):\n",
    "    print(row[0].value)"
   ]
  },
  {
   "cell_type": "code",
   "execution_count": null,
   "id": "e9c1fc28-57f2-4a91-a6e2-21d8d26432c5",
   "metadata": {},
   "outputs": [],
   "source": []
  }
 ],
 "metadata": {
  "kernelspec": {
   "display_name": "Python 3 (ipykernel)",
   "language": "python",
   "name": "python3"
  },
  "language_info": {
   "codemirror_mode": {
    "name": "ipython",
    "version": 3
   },
   "file_extension": ".py",
   "mimetype": "text/x-python",
   "name": "python",
   "nbconvert_exporter": "python",
   "pygments_lexer": "ipython3",
   "version": "3.10.12"
  }
 },
 "nbformat": 4,
 "nbformat_minor": 5
}
