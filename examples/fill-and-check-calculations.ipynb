{
 "cells": [
  {
   "cell_type": "markdown",
   "id": "43a5cb8e-87db-4c3c-babd-1d9069120b26",
   "metadata": {},
   "source": [
    "# Calculator Load and Check\n",
    "+ Load a calculator template\n",
    "+ Load in dummy values\n",
    "+ Check the outputs are as expected\n",
    "\n",
    "## Objects\n",
    "### Calculation template\n",
    "+ Spreadsheet template with all the relationships between fields expressed. Libreoffice is used to execute this, excel can also be used.\n",
    "\n",
    "### Measurement Module\n",
    "+ Someway to take the names of fields and translate these into measurement commands. In this case the names match a modbus lookup table.\n",
    "\n",
    "### Calculation Output\n",
    "+ Filled in calculation template with all fields calculated\n",
    "\n",
    "### Test matrix\n",
    "+ Defines the names of the fields to check\n",
    "+ Has the operation which is in a lookup table. We're only using simple operations (min/max or equal) more complex relationships should be expressed in the calculation template"
   ]
  },
  {
   "cell_type": "code",
   "execution_count": 1,
   "id": "f61848b6-a8b7-4659-a316-0a80aac214c5",
   "metadata": {},
   "outputs": [],
   "source": [
    "import pandas\n",
    "import pyexcel, openpyxl"
   ]
  },
  {
   "cell_type": "code",
   "execution_count": 2,
   "id": "52c30d6d-cbd2-4193-881b-26c1a5dc6803",
   "metadata": {},
   "outputs": [],
   "source": [
    "template = \"./calculator-sheet-blank-template.xlsx\"\n",
    "workbook = openpyxl.open(\"./calculator-sheet-blank-template.xlsx\")\n",
    "df = pandas.read_excel(template)\n",
    "sheet = workbook.active\n",
    "columns_names = {}\n",
    "for column, in workbook.active.iter_cols(min_row=1, max_row=1, values_only=False):\n",
    "    columns_names[column.value] = column.column - 1#_letter"
   ]
  },
  {
   "cell_type": "code",
   "execution_count": 3,
   "id": "575b5e0b-eb60-4436-af71-cf4bbb51a2ea",
   "metadata": {},
   "outputs": [
    {
     "name": "stdout",
     "output_type": "stream",
     "text": [
      "                name       value unit      type\n",
      "0            version         NaN  NaN  measured\n",
      "1   firmware_version         NaN  NaN  measured\n",
      "2       compile_time         NaN  NaN  measured\n",
      "3       compile_date         NaN  NaN  measured\n",
      "4      slave_address         NaN  NaN  measured\n",
      "5   p3_3_micro_volts         NaN   uV  measured\n",
      "6       p3_3_reading         NaN  ADC  measured\n",
      "11   p23_micro_volts  23000000.0   uV  measured\n",
      "12       p23_reading      1200.0  ADC  measured\n",
      "17    p5_micro_volts         NaN   uV  measured\n",
      "18        p5_reading      2500.0  ADC  measured\n",
      "23      fault_status         NaN  NaN  measured\n"
     ]
    }
   ],
   "source": [
    "measured_rows = df[df[\"type\"] == \"measured\"]\n",
    "print(measured_rows)"
   ]
  },
  {
   "cell_type": "code",
   "execution_count": 4,
   "id": "9d9b28be-2be1-4265-94b6-5acac65685dc",
   "metadata": {},
   "outputs": [],
   "source": [
    "dummy_values_df = pandas.read_excel(\"./dummy-values.xlsx\")"
   ]
  },
  {
   "cell_type": "code",
   "execution_count": 5,
   "id": "4fc9f9f6-78b5-4c2c-9b1f-5baaa9594ab4",
   "metadata": {},
   "outputs": [
    {
     "name": "stdout",
     "output_type": "stream",
     "text": [
      "B2 0.8.X\n",
      "B3 0.1.8\n",
      "B4 09:09:00\n",
      "B5 September 9th, 2023\n",
      "B6 246\n",
      "B7 3260000\n",
      "B8 2024\n",
      "B13 23000000\n",
      "B14 1200\n",
      "B19 5000000\n",
      "B20 2500\n",
      "B25 9\n"
     ]
    }
   ],
   "source": [
    "for i, line in measured_rows.iterrows():\n",
    "    coordinate = workbook.active.cell(row=i+2, column=columns_names[\"value\"]+1).coordinate\n",
    "    value = dummy_values_df[dummy_values_df[\"name\"] == line[\"name\"]].iloc[0][\"value\"]\n",
    "    workbook.active[coordinate] = value\n",
    "    print(coordinate, workbook.active[coordinate].value)"
   ]
  },
  {
   "cell_type": "code",
   "execution_count": 6,
   "id": "7a3d3249-08e1-418d-93c6-0bf6a97f28d4",
   "metadata": {},
   "outputs": [],
   "source": [
    "workbook.save(\"/tmp/out.xlsx\")"
   ]
  },
  {
   "cell_type": "code",
   "execution_count": 21,
   "id": "81f9ba92-7068-4219-843b-90b04d21abfa",
   "metadata": {},
   "outputs": [
    {
     "data": {
      "text/plain": [
       "0"
      ]
     },
     "execution_count": 21,
     "metadata": {},
     "output_type": "execute_result"
    }
   ],
   "source": [
    "import os, sys, importlib\n",
    "sys.path.append(\"../\")\n",
    "import pyetest\n",
    "importlib.reload(pyetest)\n",
    "out_file = \"/tmp/out-export.xlsx\"\n",
    "pyetest.reload_spreadsheet(\"/tmp/out.xlsx\", out_file)\n",
    "# Theres a special condition where libreoffice will just exit if the output file is the same as the input. Converting to xls isnt required if the output directory is different.\n",
    "# os.system(\"cd /tmp && libreoffice --calc --convert-to xls /tmp/out.xlsx && libreoffice --calc --convert-to xlsx /tmp/out.xls\")"
   ]
  },
  {
   "cell_type": "code",
   "execution_count": 22,
   "id": "d7dff876-887a-47ff-b8f1-10a33e7c1bda",
   "metadata": {},
   "outputs": [],
   "source": [
    "processed_df = pandas.read_excel(out_file)"
   ]
  },
  {
   "cell_type": "code",
   "execution_count": 23,
   "id": "aa4120e6-68c1-49b5-a4ee-03c57d373cb6",
   "metadata": {},
   "outputs": [],
   "source": [
    "values_matrix_df = pandas.read_excel(\"./value-limits.xlsx\").dropna(subset=[\"operation\"])\n",
    "def in_range(value, line):\n",
    "    return value >= line[\"min\"] and value <= line[\"max\"]\n",
    "\n",
    "def equals(value, line):\n",
    "    return value == line[\"expected value\"]\n",
    "    \n",
    "operations = {\"<=>\": in_range, \"==\": equals}"
   ]
  },
  {
   "cell_type": "code",
   "execution_count": 24,
   "id": "2e95330a-a5b1-4bc7-8398-9c08fbf9b1b9",
   "metadata": {},
   "outputs": [],
   "source": [
    "values = []\n",
    "checks = []\n",
    "\n",
    "for i, value_line in values_matrix_df.iterrows():\n",
    "    line = processed_df[processed_df[\"name\"] == value_line[\"name\"]].iloc[0]\n",
    "    value = line[\"value\"]\n",
    "    values.append(value)\n",
    "    checks.append(operations[value_line[\"operation\"]](value, value_line))\n",
    "\n",
    "values_matrix_df[\"value\"] = values\n",
    "values_matrix_df[\"checks\"] = checks"
   ]
  },
  {
   "cell_type": "code",
   "execution_count": 25,
   "id": "6c628a2c-6257-4e1c-8770-7f8e044121c0",
   "metadata": {},
   "outputs": [
    {
     "name": "stdout",
     "output_type": "stream",
     "text": [
      "                 name       expected value unit         min         max  \\\n",
      "0             version                0.8.X  NaN         NaN         NaN   \n",
      "1    firmware_version                0.1.8  NaN         NaN         NaN   \n",
      "2        compile_time             09:09:00  NaN         NaN         NaN   \n",
      "3        compile_date  September 9th, 2023  NaN         NaN         NaN   \n",
      "4       slave_address                  246  NaN         NaN         NaN   \n",
      "5    p3_3_micro_volts              3300000   uV   3200000.0   3400000.0   \n",
      "7           +3.3ERROR                    0    %         0.0         3.0   \n",
      "8     p23_micro_volts             23000000   uV  18000000.0  30000000.0   \n",
      "10           +23ERROR                    0    %         0.0         3.0   \n",
      "11     p5_micro_volts              5000000   uV   4900000.0   5100000.0   \n",
      "13            +5ERROR                    0    %         0.0         3.0   \n",
      "15           +5 Fault                    0  NaN         NaN         NaN   \n",
      "16          +24 Fault                    0  NaN         NaN         NaN   \n",
      "17       Error Code 2                    0  NaN         NaN         NaN   \n",
      "18          DAQ Fault                    0  NaN         NaN         NaN   \n",
      "19       Error Code 4                    0  NaN         NaN         NaN   \n",
      "20           MW Fault                    0  NaN         NaN         NaN   \n",
      "21       Error Code 6                    0  NaN         NaN         NaN   \n",
      "22       Error Code 7                    0  NaN         NaN         NaN   \n",
      "23      Visible Fault                    0  NaN         NaN         NaN   \n",
      "24  Temperature Fault                    0  NaN         NaN         NaN   \n",
      "26     Watchdog Fault                    0  NaN         NaN         NaN   \n",
      "27     Hardware Fault                    0  NaN         NaN         NaN   \n",
      "28          I2C Fault                    0  NaN         NaN         NaN   \n",
      "29      Error Code 14                    0  NaN         NaN         NaN   \n",
      "30       Modbus Fault                    0  NaN         NaN         NaN   \n",
      "\n",
      "   operation                value  checks  \n",
      "0         ==                0.8.X    True  \n",
      "1         ==                0.1.8    True  \n",
      "2         ==             09:09:00    True  \n",
      "3         ==  September 9th, 2023    True  \n",
      "4         ==                  246    True  \n",
      "5        <=>              3260000    True  \n",
      "7        <=>             0.864111    True  \n",
      "8        <=>             23000000    True  \n",
      "10       <=>              0.00708    True  \n",
      "11       <=>              5000000    True  \n",
      "13       <=>             0.708008    True  \n",
      "15        ==                    1   False  \n",
      "16        ==                    0    True  \n",
      "17        ==                    0    True  \n",
      "18        ==                    1   False  \n",
      "19        ==                    0    True  \n",
      "20        ==                    0    True  \n",
      "21        ==                    0    True  \n",
      "22        ==                    0    True  \n",
      "23        ==                    0    True  \n",
      "24        ==                    0    True  \n",
      "26        ==                    0    True  \n",
      "27        ==                    0    True  \n",
      "28        ==                    0    True  \n",
      "29        ==                    0    True  \n",
      "30        ==                    0    True  \n"
     ]
    }
   ],
   "source": [
    "print(values_matrix_df)"
   ]
  },
  {
   "cell_type": "code",
   "execution_count": 13,
   "id": "24413700-c50f-4521-87ca-a0330596051d",
   "metadata": {},
   "outputs": [
    {
     "name": "stdout",
     "output_type": "stream",
     "text": [
      "False\n"
     ]
    }
   ],
   "source": [
    "tests_passed = all(values_matrix_df[\"checks\"])\n",
    "print(tests_passed)"
   ]
  },
  {
   "cell_type": "code",
   "execution_count": null,
   "id": "fb6d57c1-3bed-4336-b365-a52a66198de7",
   "metadata": {},
   "outputs": [],
   "source": []
  }
 ],
 "metadata": {
  "kernelspec": {
   "display_name": "Python 3 (ipykernel)",
   "language": "python",
   "name": "python3"
  },
  "language_info": {
   "codemirror_mode": {
    "name": "ipython",
    "version": 3
   },
   "file_extension": ".py",
   "mimetype": "text/x-python",
   "name": "python",
   "nbconvert_exporter": "python",
   "pygments_lexer": "ipython3",
   "version": "3.10.12"
  }
 },
 "nbformat": 4,
 "nbformat_minor": 5
}
