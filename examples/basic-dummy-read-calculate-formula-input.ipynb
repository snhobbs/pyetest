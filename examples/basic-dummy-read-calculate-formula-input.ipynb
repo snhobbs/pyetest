{
 "cells": [
  {
   "cell_type": "markdown",
   "id": "43a5cb8e-87db-4c3c-babd-1d9069120b26",
   "metadata": {},
   "source": [
    "# Basic dummy read calculate formula\n",
    "+ Create a spreadsheet object with a formula\n",
    "+ Change the input values\n",
    "+ Evaluate the formula, check the values match"
   ]
  },
  {
   "cell_type": "code",
   "execution_count": 1,
   "id": "f61848b6-a8b7-4659-a316-0a80aac214c5",
   "metadata": {},
   "outputs": [],
   "source": [
    "import pandas\n",
    "import pyexcel, openpyxl"
   ]
  },
  {
   "cell_type": "code",
   "execution_count": 2,
   "id": "52c30d6d-cbd2-4193-881b-26c1a5dc6803",
   "metadata": {},
   "outputs": [],
   "source": [
    "workbook = openpyxl.workbook.Workbook()\n",
    "sheet = workbook.active"
   ]
  },
  {
   "cell_type": "code",
   "execution_count": 3,
   "id": "e0cbdc18-d7ca-4b61-894d-e1ae14d88ce1",
   "metadata": {},
   "outputs": [
    {
     "name": "stdout",
     "output_type": "stream",
     "text": [
      "=SUM(B2:B10)\n"
     ]
    }
   ],
   "source": [
    "sheet[\"A1\"] = 'Sum'\n",
    "sheet[\"A2\"] = \"=SUM(B2:B10)\"\n",
    "sheet[\"B1\"] = 'Count'\n",
    "print(sheet[\"A2\"].value)"
   ]
  },
  {
   "cell_type": "code",
   "execution_count": 4,
   "id": "eaff4924-e46a-4ebc-afb4-b9f4e7df6e87",
   "metadata": {},
   "outputs": [
    {
     "name": "stdout",
     "output_type": "stream",
     "text": [
      "1\n",
      "1\n",
      "1\n",
      "1\n",
      "1\n",
      "1\n",
      "1\n",
      "1\n",
      "1\n",
      "1\n",
      "1\n"
     ]
    }
   ],
   "source": [
    "for row in sheet.iter_rows(min_row=2, max_row=12, values_only=False):\n",
    "    row[1].value = 1\n",
    "    print(row[1].value)\n",
    "#sheet[\"B2:B10\"] = 1"
   ]
  },
  {
   "cell_type": "code",
   "execution_count": 5,
   "id": "93713b3f-636e-45dd-9e9a-978a6c286dd3",
   "metadata": {},
   "outputs": [],
   "source": [
    "calc_cell = sheet[\"A1\"]"
   ]
  },
  {
   "cell_type": "code",
   "execution_count": 6,
   "id": "7a3d3249-08e1-418d-93c6-0bf6a97f28d4",
   "metadata": {},
   "outputs": [],
   "source": [
    "workbook.save(\"/tmp/out.xlsx\")"
   ]
  },
  {
   "cell_type": "code",
   "execution_count": 7,
   "id": "d27569fa-cb14-457b-a606-a36f48b367ac",
   "metadata": {},
   "outputs": [
    {
     "name": "stdout",
     "output_type": "stream",
     "text": [
      "=SUM(B2:B10)\n",
      "None\n",
      "None\n",
      "None\n",
      "None\n",
      "None\n",
      "None\n",
      "None\n",
      "None\n",
      "None\n",
      "None\n"
     ]
    }
   ],
   "source": [
    "# Show formula\n",
    "workbook2 = openpyxl.open(\"./out.xlsx\", data_only=False)\n",
    "for row in workbook2.active.iter_rows(min_row=2, max_row=12, values_only=False):\n",
    "    print(row[0].value)"
   ]
  },
  {
   "cell_type": "code",
   "execution_count": 8,
   "id": "e9c1fc28-57f2-4a91-a6e2-21d8d26432c5",
   "metadata": {},
   "outputs": [
    {
     "name": "stdout",
     "output_type": "stream",
     "text": [
      "None\n",
      "None\n",
      "None\n",
      "None\n",
      "None\n",
      "None\n",
      "None\n",
      "None\n",
      "None\n",
      "None\n",
      "None\n"
     ]
    }
   ],
   "source": [
    "# Show value\n",
    "workbook2 = openpyxl.open(\"/tmp/out.xlsx\", data_only=True)\n",
    "for row in workbook2.active.iter_rows(min_row=2, max_row=12, values_only=True):\n",
    "    print(row[0])"
   ]
  },
  {
   "cell_type": "code",
   "execution_count": 9,
   "id": "81f9ba92-7068-4219-843b-90b04d21abfa",
   "metadata": {},
   "outputs": [
    {
     "name": "stdout",
     "output_type": "stream",
     "text": [
      "9\n",
      "None\n",
      "None\n",
      "None\n",
      "None\n",
      "None\n",
      "None\n",
      "None\n",
      "None\n",
      "None\n",
      "None\n"
     ]
    }
   ],
   "source": [
    "import os\n",
    "# Theres a special condition where libreoffice will just exit if the output file is the same as the input. Converting to xls isnt required if the output directory is different.\n",
    "os.system(\"cd /tmp && libreoffice --calc --convert-to xls /tmp/out.xlsx && libreoffice --calc --convert-to xlsx /tmp/out.xls\")\n",
    "workbook4 = openpyxl.open(\"/tmp/out.xlsx\", data_only=True)\n",
    "for row in workbook4.active.iter_rows(min_row=2, max_row=12, values_only=True):\n",
    "    print(row[0])"
   ]
  },
  {
   "cell_type": "code",
   "execution_count": 10,
   "id": "d7dff876-887a-47ff-b8f1-10a33e7c1bda",
   "metadata": {},
   "outputs": [
    {
     "data": {
      "text/html": [
       "<div>\n",
       "<style scoped>\n",
       "    .dataframe tbody tr th:only-of-type {\n",
       "        vertical-align: middle;\n",
       "    }\n",
       "\n",
       "    .dataframe tbody tr th {\n",
       "        vertical-align: top;\n",
       "    }\n",
       "\n",
       "    .dataframe thead th {\n",
       "        text-align: right;\n",
       "    }\n",
       "</style>\n",
       "<table border=\"1\" class=\"dataframe\">\n",
       "  <thead>\n",
       "    <tr style=\"text-align: right;\">\n",
       "      <th></th>\n",
       "      <th>Sum</th>\n",
       "      <th>Count</th>\n",
       "    </tr>\n",
       "  </thead>\n",
       "  <tbody>\n",
       "    <tr>\n",
       "      <th>0</th>\n",
       "      <td>9.0</td>\n",
       "      <td>1</td>\n",
       "    </tr>\n",
       "    <tr>\n",
       "      <th>1</th>\n",
       "      <td>NaN</td>\n",
       "      <td>1</td>\n",
       "    </tr>\n",
       "    <tr>\n",
       "      <th>2</th>\n",
       "      <td>NaN</td>\n",
       "      <td>1</td>\n",
       "    </tr>\n",
       "    <tr>\n",
       "      <th>3</th>\n",
       "      <td>NaN</td>\n",
       "      <td>1</td>\n",
       "    </tr>\n",
       "    <tr>\n",
       "      <th>4</th>\n",
       "      <td>NaN</td>\n",
       "      <td>1</td>\n",
       "    </tr>\n",
       "    <tr>\n",
       "      <th>5</th>\n",
       "      <td>NaN</td>\n",
       "      <td>1</td>\n",
       "    </tr>\n",
       "    <tr>\n",
       "      <th>6</th>\n",
       "      <td>NaN</td>\n",
       "      <td>1</td>\n",
       "    </tr>\n",
       "    <tr>\n",
       "      <th>7</th>\n",
       "      <td>NaN</td>\n",
       "      <td>1</td>\n",
       "    </tr>\n",
       "    <tr>\n",
       "      <th>8</th>\n",
       "      <td>NaN</td>\n",
       "      <td>1</td>\n",
       "    </tr>\n",
       "    <tr>\n",
       "      <th>9</th>\n",
       "      <td>NaN</td>\n",
       "      <td>1</td>\n",
       "    </tr>\n",
       "    <tr>\n",
       "      <th>10</th>\n",
       "      <td>NaN</td>\n",
       "      <td>1</td>\n",
       "    </tr>\n",
       "  </tbody>\n",
       "</table>\n",
       "</div>"
      ],
      "text/plain": [
       "    Sum  Count\n",
       "0   9.0      1\n",
       "1   NaN      1\n",
       "2   NaN      1\n",
       "3   NaN      1\n",
       "4   NaN      1\n",
       "5   NaN      1\n",
       "6   NaN      1\n",
       "7   NaN      1\n",
       "8   NaN      1\n",
       "9   NaN      1\n",
       "10  NaN      1"
      ]
     },
     "execution_count": 10,
     "metadata": {},
     "output_type": "execute_result"
    }
   ],
   "source": [
    "import pandas\n",
    "pandas.read_excel(\"/tmp/out.xls\")"
   ]
  },
  {
   "cell_type": "code",
   "execution_count": 11,
   "id": "a2c3a66c-5b82-4f97-8b11-395b8266d3bd",
   "metadata": {},
   "outputs": [],
   "source": [
    "workbook3 = openpyxl.open(\"./calculator-sheet.xlsx\", data_only=False)"
   ]
  },
  {
   "cell_type": "code",
   "execution_count": 12,
   "id": "52823f8e-b792-4786-8f1c-8100996857b6",
   "metadata": {},
   "outputs": [
    {
     "name": "stdout",
     "output_type": "stream",
     "text": [
      "0.8.X\n",
      "0.1.8\n",
      "None\n",
      "None\n",
      "246\n",
      "3260000\n",
      "2024\n",
      "=1/2\n",
      "0\n",
      "=B8/4096*3.3/B9\n",
      "=ABS(B11/24-1)\n"
     ]
    }
   ],
   "source": [
    "for row in workbook3.active.iter_rows(min_row=2, max_row=12, values_only=False):\n",
    "    print(row[1].value)"
   ]
  }
 ],
 "metadata": {
  "kernelspec": {
   "display_name": "Python 3 (ipykernel)",
   "language": "python",
   "name": "python3"
  },
  "language_info": {
   "codemirror_mode": {
    "name": "ipython",
    "version": 3
   },
   "file_extension": ".py",
   "mimetype": "text/x-python",
   "name": "python",
   "nbconvert_exporter": "python",
   "pygments_lexer": "ipython3",
   "version": "3.10.12"
  }
 },
 "nbformat": 4,
 "nbformat_minor": 5
}
